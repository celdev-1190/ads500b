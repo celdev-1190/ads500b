{
 "cells": [
  {
   "cell_type": "markdown",
   "id": "e698b59a-d2fc-4e04-90d8-7159abfdac4e",
   "metadata": {},
   "source": [
    "# Final Project - House Sales Regression\n",
    "\n",
    "Austin Mallie, Cynthia Portales, Celina Velazquez\n",
    "Shiley-Marcos School of Engineering, University of San Diego\n",
    "ADS-500B Data Science Programming\n",
    "Dr. Mohammad Yavarimanesh"
   ]
  },
  {
   "cell_type": "code",
   "execution_count": null,
   "id": "be5b3951-b8fd-46a0-97fc-78da8f187124",
   "metadata": {},
   "outputs": [],
   "source": [
    "This section imports the libraries that are needed."
   ]
  },
  {
   "cell_type": "code",
   "execution_count": 7,
   "id": "a9513247-29ab-4660-b956-0c7cf07a614b",
   "metadata": {},
   "outputs": [],
   "source": [
    "import os\n",
    "\n",
    "\n"
   ]
  },
  {
   "cell_type": "markdown",
   "id": "8c7def83-b7f7-487d-8dd9-ab4d0cf07f49",
   "metadata": {},
   "source": []
  },
  {
   "cell_type": "code",
   "execution_count": null,
   "id": "9d78448e-9d73-47af-8ca1-e913306387b2",
   "metadata": {},
   "outputs": [],
   "source": [
    "os.getcwd()"
   ]
  }
 ],
 "metadata": {
  "kernelspec": {
   "display_name": "Python 3 (ipykernel)",
   "language": "python",
   "name": "python3"
  },
  "language_info": {
   "codemirror_mode": {
    "name": "ipython",
    "version": 3
   },
   "file_extension": ".py",
   "mimetype": "text/x-python",
   "name": "python",
   "nbconvert_exporter": "python",
   "pygments_lexer": "ipython3",
   "version": "3.12.4"
  }
 },
 "nbformat": 4,
 "nbformat_minor": 5
}
